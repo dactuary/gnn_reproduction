{
 "cells": [
  {
   "cell_type": "markdown",
   "metadata": {},
   "source": [
    "Note: This notebook requires Python Verison == 3.9"
   ]
  },
  {
   "cell_type": "code",
   "execution_count": 1,
   "metadata": {},
   "outputs": [
    {
     "name": "stdout",
     "output_type": "stream",
     "text": [
      "--2024-04-18 09:51:21--  https://github.com/phanein/deepwalk/archive/refs/heads/master.zip\n",
      "Resolving github.com (github.com)... 140.82.113.4\n",
      "Connecting to github.com (github.com)|140.82.113.4|:443... connected.\n",
      "HTTP request sent, awaiting response... 302 Found\n",
      "Location: https://codeload.github.com/phanein/deepwalk/zip/refs/heads/master [following]\n",
      "--2024-04-18 09:51:21--  https://codeload.github.com/phanein/deepwalk/zip/refs/heads/master\n",
      "Resolving codeload.github.com (codeload.github.com)... 140.82.114.10\n",
      "Connecting to codeload.github.com (codeload.github.com)|140.82.114.10|:443... connected.\n",
      "HTTP request sent, awaiting response... 200 OK\n",
      "Length: unspecified [application/zip]\n",
      "Saving to: ‘master.zip’\n",
      "\n",
      "master.zip              [ <=>                ]   1.27M  7.31MB/s    in 0.2s    \n",
      "\n",
      "2024-04-18 09:51:21 (7.31 MB/s) - ‘master.zip’ saved [1330818]\n",
      "\n",
      "Archive:  master.zip\n",
      "6e6dff245e4692e9bea47e9017c1034e51afbf29\n",
      "   creating: deepwalk-master/\n",
      "  inflating: deepwalk-master/.gitignore  \n",
      "  inflating: deepwalk-master/.travis.yml  \n",
      "  inflating: deepwalk-master/AUTHORS.rst  \n",
      "  inflating: deepwalk-master/CONTRIBUTING.rst  \n",
      "  inflating: deepwalk-master/HISTORY.rst  \n",
      "  inflating: deepwalk-master/LICENSE  \n",
      "  inflating: deepwalk-master/MANIFEST.in  \n",
      "  inflating: deepwalk-master/Makefile  \n",
      "  inflating: deepwalk-master/README.rst  \n",
      "  inflating: deepwalk-master/deepwalk.bib  \n",
      "   creating: deepwalk-master/deepwalk/\n",
      "  inflating: deepwalk-master/deepwalk/__init__.py  \n",
      "  inflating: deepwalk-master/deepwalk/__main__.py  \n",
      "  inflating: deepwalk-master/deepwalk/graph.py  \n",
      "  inflating: deepwalk-master/deepwalk/skipgram.py  \n",
      "  inflating: deepwalk-master/deepwalk/walks.py  \n",
      "   creating: deepwalk-master/docs/\n",
      "  inflating: deepwalk-master/docs/Makefile  \n",
      " extracting: deepwalk-master/docs/authors.rst  \n",
      "  inflating: deepwalk-master/docs/conf.py  \n",
      " extracting: deepwalk-master/docs/contributing.rst  \n",
      " extracting: deepwalk-master/docs/history.rst  \n",
      "  inflating: deepwalk-master/docs/index.rst  \n",
      "  inflating: deepwalk-master/docs/installation.rst  \n",
      "  inflating: deepwalk-master/docs/make.bat  \n",
      " extracting: deepwalk-master/docs/readme.rst  \n",
      "  inflating: deepwalk-master/docs/usage.rst  \n",
      "   creating: deepwalk-master/example_graphs/\n",
      "  inflating: deepwalk-master/example_graphs/README.md  \n",
      "  inflating: deepwalk-master/example_graphs/blogcatalog.mat  \n",
      "  inflating: deepwalk-master/example_graphs/karate.adjlist  \n",
      "  inflating: deepwalk-master/example_graphs/p2p-Gnutella08.edgelist  \n",
      "  inflating: deepwalk-master/example_graphs/scoring.py  \n",
      "  inflating: deepwalk-master/requirements.txt  \n",
      " extracting: deepwalk-master/setup.cfg  \n",
      "  inflating: deepwalk-master/setup.py  \n",
      "   creating: deepwalk-master/tests/\n",
      " extracting: deepwalk-master/tests/__init__.py  \n",
      "  inflating: deepwalk-master/tests/test_deepwalk.py  \n",
      "  inflating: deepwalk-master/tox.ini  \n"
     ]
    }
   ],
   "source": [
    "#download deep walk repo and unzip\n",
    "!wget https://github.com/phanein/deepwalk/archive/refs/heads/master.zip \n",
    "!unzip master.zip"
   ]
  },
  {
   "cell_type": "code",
   "execution_count": 2,
   "metadata": {},
   "outputs": [
    {
     "name": "stdout",
     "output_type": "stream",
     "text": [
      "--2024-04-18 09:51:22--  https://github.com/zhchs/Disease-Prediction-via-GCN/archive/refs/heads/main.zip\n",
      "Resolving github.com (github.com)... 140.82.113.4\n",
      "Connecting to github.com (github.com)|140.82.113.4|:443... connected.\n",
      "HTTP request sent, awaiting response... 302 Found\n",
      "Location: https://codeload.github.com/zhchs/Disease-Prediction-via-GCN/zip/refs/heads/main [following]\n",
      "--2024-04-18 09:51:22--  https://codeload.github.com/zhchs/Disease-Prediction-via-GCN/zip/refs/heads/main\n",
      "Resolving codeload.github.com (codeload.github.com)... 140.82.114.10\n",
      "Connecting to codeload.github.com (codeload.github.com)|140.82.114.10|:443... connected.\n",
      "HTTP request sent, awaiting response... 200 OK\n",
      "Length: unspecified [application/zip]\n",
      "Saving to: ‘main.zip’\n",
      "\n",
      "main.zip                [ <=>                ]  36.79K  --.-KB/s    in 0.03s   \n",
      "\n",
      "2024-04-18 09:51:22 (1.28 MB/s) - ‘main.zip’ saved [37668]\n",
      "\n",
      "Archive:  main.zip\n",
      "779c5c17d12aa2b5263ae2f2a2883d4f17cd5d31\n",
      "   creating: Disease-Prediction-via-GCN-main/\n",
      "   creating: Disease-Prediction-via-GCN-main/Model/\n",
      " extracting: Disease-Prediction-via-GCN-main/Model/__init__.py  \n",
      "  inflating: Disease-Prediction-via-GCN-main/Model/aggregators.py  \n",
      "  inflating: Disease-Prediction-via-GCN-main/Model/encoders.py  \n",
      "  inflating: Disease-Prediction-via-GCN-main/Model/mlp.py  \n",
      "  inflating: Disease-Prediction-via-GCN-main/Model/model.py  \n",
      "  inflating: Disease-Prediction-via-GCN-main/Model/model_multi.py  \n",
      "  inflating: Disease-Prediction-via-GCN-main/Model/unsupervised.py  \n",
      "  inflating: Disease-Prediction-via-GCN-main/README.md  \n",
      "   creating: Disease-Prediction-via-GCN-main/data/\n",
      "   creating: Disease-Prediction-via-GCN-main/data/sample_data/\n",
      "  inflating: Disease-Prediction-via-GCN-main/data/sample_data/sample_garph.adj.pkl  \n",
      "  inflating: Disease-Prediction-via-GCN-main/data/sample_data/sample_garph.label.pkl  \n",
      "  inflating: Disease-Prediction-via-GCN-main/data/sample_data/sample_garph.map.pkl  \n",
      "  inflating: Disease-Prediction-via-GCN-main/data/sample_data/sample_garph.nodes.pkl  \n",
      "  inflating: Disease-Prediction-via-GCN-main/data/sample_data/sample_garph.rare.label.pkl  \n",
      "  inflating: Disease-Prediction-via-GCN-main/data/sample_data/sample_garph.test.pkl  \n",
      "  inflating: Disease-Prediction-via-GCN-main/data/sample_data/sample_garph.train.pkl  \n",
      "  inflating: Disease-Prediction-via-GCN-main/run_multi.py  \n"
     ]
    }
   ],
   "source": [
    "#download paper's repo and unzip\n",
    "!wget https://github.com/zhchs/Disease-Prediction-via-GCN/archive/refs/heads/main.zip\n",
    "!unzip main.zip"
   ]
  },
  {
   "cell_type": "code",
   "execution_count": 3,
   "metadata": {},
   "outputs": [],
   "source": [
    "import os\n",
    "import shutil\n",
    "\n",
    "#copy data to working folder and move there\n",
    "shutil.copytree('./Disease-Prediction-via-GCN-main/data', './deepwalk-master/data')\n",
    "os.chdir(\"./deepwalk-master/\")"
   ]
  },
  {
   "cell_type": "code",
   "execution_count": 4,
   "metadata": {},
   "outputs": [
    {
     "name": "stdout",
     "output_type": "stream",
     "text": [
      "Requirement already satisfied: wheel>=0.23.0 in /home/dlochner3/~miniconda3/envs/deepwalk/lib/python3.9/site-packages (from -r requirements.txt (line 1)) (0.41.2)\n",
      "Requirement already satisfied: Cython>=0.20.2 in /home/dlochner3/~miniconda3/envs/deepwalk/lib/python3.9/site-packages (from -r requirements.txt (line 2)) (3.0.10)\n",
      "Requirement already satisfied: six>=1.7.3 in /home/dlochner3/~miniconda3/envs/deepwalk/lib/python3.9/site-packages (from -r requirements.txt (line 3)) (1.16.0)\n",
      "Requirement already satisfied: gensim>=1.0.0 in /home/dlochner3/~miniconda3/envs/deepwalk/lib/python3.9/site-packages (from -r requirements.txt (line 4)) (3.8.3)\n",
      "Requirement already satisfied: scipy>=0.15.0 in /home/dlochner3/~miniconda3/envs/deepwalk/lib/python3.9/site-packages (from -r requirements.txt (line 5)) (1.10.1)\n",
      "Requirement already satisfied: psutil>=2.1.1 in /home/dlochner3/~miniconda3/envs/deepwalk/lib/python3.9/site-packages (from -r requirements.txt (line 6)) (5.9.8)\n",
      "Requirement already satisfied: networkx>=2.0 in /home/dlochner3/~miniconda3/envs/deepwalk/lib/python3.9/site-packages (from -r requirements.txt (line 7)) (3.2.1)\n",
      "Requirement already satisfied: numpy>=1.11.3 in /home/dlochner3/~miniconda3/envs/deepwalk/lib/python3.9/site-packages (from gensim>=1.0.0->-r requirements.txt (line 4)) (1.26.4)\n",
      "Requirement already satisfied: smart-open>=1.8.1 in /home/dlochner3/~miniconda3/envs/deepwalk/lib/python3.9/site-packages (from gensim>=1.0.0->-r requirements.txt (line 4)) (7.0.4)\n",
      "Requirement already satisfied: wrapt in /home/dlochner3/~miniconda3/envs/deepwalk/lib/python3.9/site-packages (from smart-open>=1.8.1->gensim>=1.0.0->-r requirements.txt (line 4)) (1.16.0)\n"
     ]
    }
   ],
   "source": [
    "#install requirements\n",
    "!pip install -r requirements.txt"
   ]
  },
  {
   "cell_type": "code",
   "execution_count": 5,
   "metadata": {},
   "outputs": [
    {
     "name": "stdout",
     "output_type": "stream",
     "text": [
      "running install\n",
      "/home/dlochner3/~miniconda3/envs/deepwalk/lib/python3.9/site-packages/setuptools/_distutils/cmd.py:66: SetuptoolsDeprecationWarning: setup.py install is deprecated.\n",
      "!!\n",
      "\n",
      "        ********************************************************************************\n",
      "        Please avoid running ``setup.py`` directly.\n",
      "        Instead, use pypa/build, pypa/installer or other\n",
      "        standards-based tools.\n",
      "\n",
      "        See https://blog.ganssle.io/articles/2021/10/setup-py-deprecated.html for details.\n",
      "        ********************************************************************************\n",
      "\n",
      "!!\n",
      "  self.initialize_options()\n",
      "/home/dlochner3/~miniconda3/envs/deepwalk/lib/python3.9/site-packages/setuptools/_distutils/cmd.py:66: EasyInstallDeprecationWarning: easy_install command is deprecated.\n",
      "!!\n",
      "\n",
      "        ********************************************************************************\n",
      "        Please avoid running ``setup.py`` and ``easy_install``.\n",
      "        Instead, use pypa/build, pypa/installer or other\n",
      "        standards-based tools.\n",
      "\n",
      "        See https://github.com/pypa/setuptools/issues/917 for details.\n",
      "        ********************************************************************************\n",
      "\n",
      "!!\n",
      "  self.initialize_options()\n",
      "running bdist_egg\n",
      "running egg_info\n",
      "creating deepwalk.egg-info\n",
      "writing deepwalk.egg-info/PKG-INFO\n",
      "writing dependency_links to deepwalk.egg-info/dependency_links.txt\n",
      "writing entry points to deepwalk.egg-info/entry_points.txt\n",
      "writing requirements to deepwalk.egg-info/requires.txt\n",
      "writing top-level names to deepwalk.egg-info/top_level.txt\n",
      "writing manifest file 'deepwalk.egg-info/SOURCES.txt'\n",
      "reading manifest file 'deepwalk.egg-info/SOURCES.txt'\n",
      "reading manifest template 'MANIFEST.in'\n",
      "warning: no previously-included files matching '__pycache__' found under directory '*'\n",
      "warning: no previously-included files matching '*.py[co]' found under directory '*'\n",
      "adding license file 'LICENSE'\n",
      "adding license file 'AUTHORS.rst'\n",
      "writing manifest file 'deepwalk.egg-info/SOURCES.txt'\n",
      "installing library code to build/bdist.linux-x86_64/egg\n",
      "running install_lib\n",
      "running build_py\n",
      "creating build\n",
      "creating build/lib\n",
      "creating build/lib/deepwalk\n",
      "copying deepwalk/__main__.py -> build/lib/deepwalk\n",
      "copying deepwalk/graph.py -> build/lib/deepwalk\n",
      "copying deepwalk/walks.py -> build/lib/deepwalk\n",
      "copying deepwalk/skipgram.py -> build/lib/deepwalk\n",
      "copying deepwalk/__init__.py -> build/lib/deepwalk\n",
      "creating build/bdist.linux-x86_64\n",
      "creating build/bdist.linux-x86_64/egg\n",
      "creating build/bdist.linux-x86_64/egg/deepwalk\n",
      "copying build/lib/deepwalk/__main__.py -> build/bdist.linux-x86_64/egg/deepwalk\n",
      "copying build/lib/deepwalk/graph.py -> build/bdist.linux-x86_64/egg/deepwalk\n",
      "copying build/lib/deepwalk/walks.py -> build/bdist.linux-x86_64/egg/deepwalk\n",
      "copying build/lib/deepwalk/skipgram.py -> build/bdist.linux-x86_64/egg/deepwalk\n",
      "copying build/lib/deepwalk/__init__.py -> build/bdist.linux-x86_64/egg/deepwalk\n",
      "byte-compiling build/bdist.linux-x86_64/egg/deepwalk/__main__.py to __main__.cpython-39.pyc\n",
      "byte-compiling build/bdist.linux-x86_64/egg/deepwalk/graph.py to graph.cpython-39.pyc\n",
      "byte-compiling build/bdist.linux-x86_64/egg/deepwalk/walks.py to walks.cpython-39.pyc\n",
      "byte-compiling build/bdist.linux-x86_64/egg/deepwalk/skipgram.py to skipgram.cpython-39.pyc\n",
      "byte-compiling build/bdist.linux-x86_64/egg/deepwalk/__init__.py to __init__.cpython-39.pyc\n",
      "creating build/bdist.linux-x86_64/egg/EGG-INFO\n",
      "copying deepwalk.egg-info/PKG-INFO -> build/bdist.linux-x86_64/egg/EGG-INFO\n",
      "copying deepwalk.egg-info/SOURCES.txt -> build/bdist.linux-x86_64/egg/EGG-INFO\n",
      "copying deepwalk.egg-info/dependency_links.txt -> build/bdist.linux-x86_64/egg/EGG-INFO\n",
      "copying deepwalk.egg-info/entry_points.txt -> build/bdist.linux-x86_64/egg/EGG-INFO\n",
      "copying deepwalk.egg-info/not-zip-safe -> build/bdist.linux-x86_64/egg/EGG-INFO\n",
      "copying deepwalk.egg-info/requires.txt -> build/bdist.linux-x86_64/egg/EGG-INFO\n",
      "copying deepwalk.egg-info/top_level.txt -> build/bdist.linux-x86_64/egg/EGG-INFO\n",
      "creating dist\n",
      "creating 'dist/deepwalk-1.0.3-py3.9.egg' and adding 'build/bdist.linux-x86_64/egg' to it\n",
      "removing 'build/bdist.linux-x86_64/egg' (and everything under it)\n",
      "Processing deepwalk-1.0.3-py3.9.egg\n",
      "removing '/home/dlochner3/~miniconda3/envs/deepwalk/lib/python3.9/site-packages/deepwalk-1.0.3-py3.9.egg' (and everything under it)\n",
      "creating /home/dlochner3/~miniconda3/envs/deepwalk/lib/python3.9/site-packages/deepwalk-1.0.3-py3.9.egg\n",
      "Extracting deepwalk-1.0.3-py3.9.egg to /home/dlochner3/~miniconda3/envs/deepwalk/lib/python3.9/site-packages\n",
      "Adding deepwalk 1.0.3 to easy-install.pth file\n",
      "Installing deepwalk script to /home/dlochner3/~miniconda3/envs/deepwalk/bin\n",
      "\n",
      "Installed /home/dlochner3/~miniconda3/envs/deepwalk/lib/python3.9/site-packages/deepwalk-1.0.3-py3.9.egg\n",
      "Processing dependencies for deepwalk==1.0.3\n",
      "Searching for networkx==3.2.1\n",
      "Best match: networkx 3.2.1\n",
      "Adding networkx 3.2.1 to easy-install.pth file\n",
      "\n",
      "Using /home/dlochner3/~miniconda3/envs/deepwalk/lib/python3.9/site-packages\n",
      "Searching for psutil==5.9.8\n",
      "Best match: psutil 5.9.8\n",
      "Adding psutil 5.9.8 to easy-install.pth file\n",
      "\n",
      "Using /home/dlochner3/~miniconda3/envs/deepwalk/lib/python3.9/site-packages\n",
      "Searching for scipy==1.10.1\n",
      "Best match: scipy 1.10.1\n",
      "Adding scipy 1.10.1 to easy-install.pth file\n",
      "\n",
      "Using /home/dlochner3/~miniconda3/envs/deepwalk/lib/python3.9/site-packages\n",
      "Searching for gensim==3.8.3\n",
      "Best match: gensim 3.8.3\n",
      "Adding gensim 3.8.3 to easy-install.pth file\n",
      "\n",
      "Using /home/dlochner3/~miniconda3/envs/deepwalk/lib/python3.9/site-packages\n",
      "Searching for six==1.16.0\n",
      "Best match: six 1.16.0\n",
      "Adding six 1.16.0 to easy-install.pth file\n",
      "\n",
      "Using /home/dlochner3/~miniconda3/envs/deepwalk/lib/python3.9/site-packages\n",
      "Searching for Cython==3.0.10\n",
      "Best match: Cython 3.0.10\n",
      "Adding Cython 3.0.10 to easy-install.pth file\n",
      "Installing cygdb script to /home/dlochner3/~miniconda3/envs/deepwalk/bin\n",
      "Installing cython script to /home/dlochner3/~miniconda3/envs/deepwalk/bin\n",
      "Installing cythonize script to /home/dlochner3/~miniconda3/envs/deepwalk/bin\n",
      "\n",
      "Using /home/dlochner3/~miniconda3/envs/deepwalk/lib/python3.9/site-packages\n",
      "Searching for wheel==0.41.2\n",
      "Best match: wheel 0.41.2\n",
      "Adding wheel 0.41.2 to easy-install.pth file\n",
      "Installing wheel script to /home/dlochner3/~miniconda3/envs/deepwalk/bin\n",
      "\n",
      "Using /home/dlochner3/~miniconda3/envs/deepwalk/lib/python3.9/site-packages\n",
      "Searching for numpy==1.26.4\n",
      "Best match: numpy 1.26.4\n",
      "Adding numpy 1.26.4 to easy-install.pth file\n",
      "Installing f2py script to /home/dlochner3/~miniconda3/envs/deepwalk/bin\n",
      "\n",
      "Using /home/dlochner3/~miniconda3/envs/deepwalk/lib/python3.9/site-packages\n",
      "Searching for smart-open==7.0.4\n",
      "Best match: smart-open 7.0.4\n",
      "Adding smart-open 7.0.4 to easy-install.pth file\n",
      "\n",
      "Using /home/dlochner3/~miniconda3/envs/deepwalk/lib/python3.9/site-packages\n",
      "Searching for wrapt==1.16.0\n",
      "Best match: wrapt 1.16.0\n",
      "Adding wrapt 1.16.0 to easy-install.pth file\n",
      "\n",
      "Using /home/dlochner3/~miniconda3/envs/deepwalk/lib/python3.9/site-packages\n",
      "Finished processing dependencies for deepwalk==1.0.3\n"
     ]
    }
   ],
   "source": [
    "#install deepwalk\n",
    "!python setup.py install"
   ]
  },
  {
   "cell_type": "code",
   "execution_count": 6,
   "metadata": {},
   "outputs": [
    {
     "name": "stdout",
     "output_type": "stream",
     "text": [
      "Found existing installation: scipy 1.10.1\n",
      "Uninstalling scipy-1.10.1:\n",
      "  Successfully uninstalled scipy-1.10.1\n",
      "Collecting scipy==1.10.1\n",
      "  Using cached scipy-1.10.1-cp39-cp39-manylinux_2_17_x86_64.manylinux2014_x86_64.whl.metadata (58 kB)\n",
      "Requirement already satisfied: numpy<1.27.0,>=1.19.5 in /home/dlochner3/~miniconda3/envs/deepwalk/lib/python3.9/site-packages (from scipy==1.10.1) (1.26.4)\n",
      "Using cached scipy-1.10.1-cp39-cp39-manylinux_2_17_x86_64.manylinux2014_x86_64.whl (34.5 MB)\n",
      "Installing collected packages: scipy\n",
      "Successfully installed scipy-1.10.1\n",
      "Found existing installation: gensim 3.8.3\n",
      "Uninstalling gensim-3.8.3:\n",
      "  Successfully uninstalled gensim-3.8.3\n",
      "Collecting gensim==3.8.3\n",
      "  Using cached gensim-3.8.3-cp39-cp39-linux_x86_64.whl\n",
      "Requirement already satisfied: numpy>=1.11.3 in /home/dlochner3/~miniconda3/envs/deepwalk/lib/python3.9/site-packages (from gensim==3.8.3) (1.26.4)\n",
      "Requirement already satisfied: scipy>=0.18.1 in /home/dlochner3/~miniconda3/envs/deepwalk/lib/python3.9/site-packages (from gensim==3.8.3) (1.10.1)\n",
      "Requirement already satisfied: six>=1.5.0 in /home/dlochner3/~miniconda3/envs/deepwalk/lib/python3.9/site-packages (from gensim==3.8.3) (1.16.0)\n",
      "Requirement already satisfied: smart-open>=1.8.1 in /home/dlochner3/~miniconda3/envs/deepwalk/lib/python3.9/site-packages (from gensim==3.8.3) (7.0.4)\n",
      "Requirement already satisfied: wrapt in /home/dlochner3/~miniconda3/envs/deepwalk/lib/python3.9/site-packages (from smart-open>=1.8.1->gensim==3.8.3) (1.16.0)\n",
      "Installing collected packages: gensim\n",
      "Successfully installed gensim-3.8.3\n",
      "Requirement already satisfied: scikit-learn in /home/dlochner3/~miniconda3/envs/deepwalk/lib/python3.9/site-packages (1.4.2)\n",
      "Requirement already satisfied: numpy>=1.19.5 in /home/dlochner3/~miniconda3/envs/deepwalk/lib/python3.9/site-packages (from scikit-learn) (1.26.4)\n",
      "Requirement already satisfied: scipy>=1.6.0 in /home/dlochner3/~miniconda3/envs/deepwalk/lib/python3.9/site-packages (from scikit-learn) (1.10.1)\n",
      "Requirement already satisfied: joblib>=1.2.0 in /home/dlochner3/~miniconda3/envs/deepwalk/lib/python3.9/site-packages (from scikit-learn) (1.4.0)\n",
      "Requirement already satisfied: threadpoolctl>=2.0.0 in /home/dlochner3/~miniconda3/envs/deepwalk/lib/python3.9/site-packages (from scikit-learn) (3.4.0)\n",
      "Requirement already satisfied: pandas in /home/dlochner3/~miniconda3/envs/deepwalk/lib/python3.9/site-packages (2.2.2)\n",
      "Requirement already satisfied: numpy>=1.22.4 in /home/dlochner3/~miniconda3/envs/deepwalk/lib/python3.9/site-packages (from pandas) (1.26.4)\n",
      "Requirement already satisfied: python-dateutil>=2.8.2 in /home/dlochner3/~miniconda3/envs/deepwalk/lib/python3.9/site-packages (from pandas) (2.9.0)\n",
      "Requirement already satisfied: pytz>=2020.1 in /home/dlochner3/~miniconda3/envs/deepwalk/lib/python3.9/site-packages (from pandas) (2024.1)\n",
      "Requirement already satisfied: tzdata>=2022.7 in /home/dlochner3/~miniconda3/envs/deepwalk/lib/python3.9/site-packages (from pandas) (2024.1)\n",
      "Requirement already satisfied: six>=1.5 in /home/dlochner3/~miniconda3/envs/deepwalk/lib/python3.9/site-packages (from python-dateutil>=2.8.2->pandas) (1.16.0)\n"
     ]
    }
   ],
   "source": [
    "#down grade packages as neccesary\n",
    "!pip uninstall scipy -y\n",
    "!pip install scipy==1.10.1\n",
    "\n",
    "!pip uninstall gensim -y\n",
    "!pip install gensim==3.8.3\n",
    "\n",
    "!pip install scikit-learn\n",
    "\n",
    "!pip install pandas"
   ]
  },
  {
   "cell_type": "code",
   "execution_count": 7,
   "metadata": {},
   "outputs": [],
   "source": [
    "#read in data from paper\n",
    "\n",
    "import pickle\n",
    "\n",
    "path = './data/sample_data/'\n",
    "\n",
    "# map of nodes to index\n",
    "with open(path + \"sample_garph.map.pkl\", \"rb\") as f:\n",
    "     map = pickle.load(f)\n",
    "\n",
    "# adj list of nodes:\n",
    "# {node1(str): [neighbor1(str), neighbor2(str), ...], node2: []...}\n",
    "with open(path + \"sample_garph.adj.pkl\", \"rb\") as f:\n",
    "     adj = pickle.load(f)\n",
    "\n",
    "# rare flag, indicating whether a node is a rare disease (value=1)\n",
    "# or contains a rare disease, NumPy array of shape (N * 1)\n",
    "with open(path + \"sample_garph.rare.label.pkl\", \"rb\") as f:\n",
    "     rarelabel = pickle.load(f)\n",
    "\n",
    "# list of node: [node1(str), node2(str), node3(str), ...]\n",
    "with open(path + \"sample_garph.nodes.pkl\", \"rb\") as f:\n",
    "     nodes = pickle.load(f)\n",
    "\n",
    "# NumPy array of shape (N * D), N is node number\n",
    "# and D is the number of diseases\n",
    "with open(path + \"sample_garph.label.pkl\", \"rb\") as f:\n",
    "     label = pickle.load(f)\n",
    "\n",
    "# list of nodes for training, [node_idx_1(int), node_idx_2(int), ....]\n",
    "with open(path + \"sample_garph.test.pkl\", \"rb\") as f:\n",
    "     test_idx = pickle.load(f)\n",
    "\n",
    "# list of nodes for testing, [node_idx_1(int), node_idx_2(int), ....]\n",
    "with open(path + \"sample_garph.train.pkl\", \"rb\") as f:\n",
    "     train_idx = pickle.load(f)"
   ]
  },
  {
   "cell_type": "code",
   "execution_count": 8,
   "metadata": {},
   "outputs": [],
   "source": [
    "import pandas as pd\n",
    "import numpy as np\n",
    "\n",
    "\n",
    "#get adjcency matrix into proper format for deepwalk\n",
    "adj_long = []\n",
    "for patient in adj:\n",
    "    for i in adj[patient]:\n",
    "        adj_long.append([patient, i])\n",
    "        \n",
    "adj_df = pd.DataFrame(adj_long, columns=['from','to']).sort_values(['from', 'to'])\n",
    "adj_df = adj_df[adj_df['from']<= 805]\n",
    "adj_df.to_csv('fulldata.txt', index=False, header=False, sep='\\t')"
   ]
  },
  {
   "cell_type": "code",
   "execution_count": 9,
   "metadata": {},
   "outputs": [
    {
     "name": "stdout",
     "output_type": "stream",
     "text": [
      "Number of nodes: 926\n",
      "Number of walks: 74080\n",
      "Data size (walks*length): 2963200\n",
      "Data size 2963200 is larger than limit (max-memory-data-size: 0).  Dumping walks to disk.\n",
      "Walking...\n",
      "Counting vertex frequency...\n",
      "Training...\n"
     ]
    }
   ],
   "source": [
    "#run deep walk\n",
    "!deepwalk --format adjlist --input fulldata.txt --max-memory-data-size 0 --number-walks 80 --representation-size 128 --walk-length 40 --window-size 10 --workers 7 --output disease.embedings"
   ]
  },
  {
   "cell_type": "code",
   "execution_count": 10,
   "metadata": {},
   "outputs": [],
   "source": [
    "from gensim.models import KeyedVectors\n",
    "\n",
    "#load deep walk model\n",
    "embeddings_file = 'disease.embedings'\n",
    "model = KeyedVectors.load_word2vec_format(embeddings_file, binary=False)"
   ]
  },
  {
   "cell_type": "code",
   "execution_count": 11,
   "metadata": {},
   "outputs": [
    {
     "data": {
      "text/plain": [
       "(806, 128)"
      ]
     },
     "execution_count": 11,
     "metadata": {},
     "output_type": "execute_result"
    }
   ],
   "source": [
    "#get deepwalk embeddings\n",
    "feats = np.asarray([model[str(node)] for node in range(1+max(adj_df['from']))])\n",
    "feats.shape"
   ]
  },
  {
   "cell_type": "code",
   "execution_count": 12,
   "metadata": {},
   "outputs": [],
   "source": [
    "from scipy import sparse\n",
    "\n",
    "#create train, test, and rare test split arrays\n",
    "X_train, X_test = feats[[i for i in train_idx if i <= 805]], feats[[i for i in test_idx if i <= 805]]\n",
    "y_train, y_test = label[[i for i in train_idx if i <= 805]], label[[i for i in test_idx if i <= 805]]\n",
    "\n",
    "X_test_rare = feats[[i for i, j in zip(test_idx, rarelabel) if i <=805 and j==1]]\n",
    "y_test_rare = label[[i for i, j in zip(test_idx, rarelabel) if i <=805 and j==1]]\n",
    "\n",
    "#set train y to sparse\n",
    "y_train = sparse.csr_matrix(y_train)"
   ]
  },
  {
   "cell_type": "code",
   "execution_count": 14,
   "metadata": {},
   "outputs": [
    {
     "name": "stderr",
     "output_type": "stream",
     "text": [
      "/home/dlochner3/~miniconda3/envs/deepwalk/lib/python3.9/site-packages/sklearn/multiclass.py:90: UserWarning: Label not 22 is present in all training examples.\n",
      "  warnings.warn(\n",
      "/home/dlochner3/~miniconda3/envs/deepwalk/lib/python3.9/site-packages/sklearn/multiclass.py:90: UserWarning: Label not 34 is present in all training examples.\n",
      "  warnings.warn(\n",
      "/home/dlochner3/~miniconda3/envs/deepwalk/lib/python3.9/site-packages/sklearn/multiclass.py:90: UserWarning: Label not 37 is present in all training examples.\n",
      "  warnings.warn(\n",
      "/home/dlochner3/~miniconda3/envs/deepwalk/lib/python3.9/site-packages/sklearn/multiclass.py:90: UserWarning: Label not 43 is present in all training examples.\n",
      "  warnings.warn(\n",
      "/home/dlochner3/~miniconda3/envs/deepwalk/lib/python3.9/site-packages/sklearn/multiclass.py:90: UserWarning: Label not 44 is present in all training examples.\n",
      "  warnings.warn(\n",
      "/home/dlochner3/~miniconda3/envs/deepwalk/lib/python3.9/site-packages/sklearn/multiclass.py:90: UserWarning: Label not 45 is present in all training examples.\n",
      "  warnings.warn(\n",
      "/home/dlochner3/~miniconda3/envs/deepwalk/lib/python3.9/site-packages/sklearn/multiclass.py:90: UserWarning: Label not 46 is present in all training examples.\n",
      "  warnings.warn(\n",
      "/home/dlochner3/~miniconda3/envs/deepwalk/lib/python3.9/site-packages/sklearn/multiclass.py:90: UserWarning: Label not 49 is present in all training examples.\n",
      "  warnings.warn(\n",
      "/home/dlochner3/~miniconda3/envs/deepwalk/lib/python3.9/site-packages/sklearn/multiclass.py:90: UserWarning: Label not 50 is present in all training examples.\n",
      "  warnings.warn(\n",
      "/home/dlochner3/~miniconda3/envs/deepwalk/lib/python3.9/site-packages/sklearn/multiclass.py:90: UserWarning: Label not 51 is present in all training examples.\n",
      "  warnings.warn(\n",
      "/home/dlochner3/~miniconda3/envs/deepwalk/lib/python3.9/site-packages/sklearn/multiclass.py:90: UserWarning: Label not 52 is present in all training examples.\n",
      "  warnings.warn(\n",
      "/home/dlochner3/~miniconda3/envs/deepwalk/lib/python3.9/site-packages/sklearn/multiclass.py:90: UserWarning: Label not 53 is present in all training examples.\n",
      "  warnings.warn(\n",
      "/home/dlochner3/~miniconda3/envs/deepwalk/lib/python3.9/site-packages/sklearn/multiclass.py:90: UserWarning: Label not 61 is present in all training examples.\n",
      "  warnings.warn(\n",
      "/home/dlochner3/~miniconda3/envs/deepwalk/lib/python3.9/site-packages/sklearn/multiclass.py:90: UserWarning: Label not 62 is present in all training examples.\n",
      "  warnings.warn(\n",
      "/home/dlochner3/~miniconda3/envs/deepwalk/lib/python3.9/site-packages/sklearn/multiclass.py:90: UserWarning: Label not 63 is present in all training examples.\n",
      "  warnings.warn(\n",
      "/home/dlochner3/~miniconda3/envs/deepwalk/lib/python3.9/site-packages/sklearn/multiclass.py:90: UserWarning: Label not 66 is present in all training examples.\n",
      "  warnings.warn(\n",
      "/home/dlochner3/~miniconda3/envs/deepwalk/lib/python3.9/site-packages/sklearn/multiclass.py:90: UserWarning: Label not 72 is present in all training examples.\n",
      "  warnings.warn(\n",
      "/home/dlochner3/~miniconda3/envs/deepwalk/lib/python3.9/site-packages/sklearn/multiclass.py:90: UserWarning: Label not 76 is present in all training examples.\n",
      "  warnings.warn(\n",
      "/home/dlochner3/~miniconda3/envs/deepwalk/lib/python3.9/site-packages/sklearn/multiclass.py:90: UserWarning: Label not 81 is present in all training examples.\n",
      "  warnings.warn(\n",
      "/home/dlochner3/~miniconda3/envs/deepwalk/lib/python3.9/site-packages/sklearn/multiclass.py:90: UserWarning: Label not 86 is present in all training examples.\n",
      "  warnings.warn(\n",
      "/home/dlochner3/~miniconda3/envs/deepwalk/lib/python3.9/site-packages/sklearn/multiclass.py:90: UserWarning: Label not 92 is present in all training examples.\n",
      "  warnings.warn(\n",
      "/home/dlochner3/~miniconda3/envs/deepwalk/lib/python3.9/site-packages/sklearn/multiclass.py:90: UserWarning: Label not 104 is present in all training examples.\n",
      "  warnings.warn(\n"
     ]
    }
   ],
   "source": [
    "from sklearn.multiclass import OneVsRestClassifier\n",
    "from sklearn.linear_model import LogisticRegression\n",
    "\n",
    "#create classifier, train, and predict on all data\n",
    "clf = OneVsRestClassifier(LogisticRegression())\n",
    "clf.fit(X_train, y_train)\n",
    "preds = clf.predict_proba(X_test)"
   ]
  },
  {
   "cell_type": "code",
   "execution_count": 15,
   "metadata": {},
   "outputs": [],
   "source": [
    "#create evaluation metric\n",
    "def metrics(preds, actual, topk = [1,2,3,4,5]):\n",
    "  results = []\n",
    "  maxk = max(topk)\n",
    "  pred_k = np.argsort(-1*preds)[:,0:maxk]\n",
    "  for k in topk:\n",
    "    tp = 0\n",
    "    for patient in range(preds.shape[0]):\n",
    "      for idx in range(k):\n",
    "        disease = pred_k[patient, idx]\n",
    "        if actual[patient, disease] == 1:\n",
    "          tp += 1\n",
    "    precision = tp / (k * preds.shape[0])\n",
    "    recall = tp / actual.sum()\n",
    "    f1 = 2*precision*recall/(precision + recall)\n",
    "    results.append([k, f1, precision, recall])\n",
    "  results = pd.DataFrame(results, columns=['k', 'f1', 'prec','rec']).round(4)\n",
    "  return results"
   ]
  },
  {
   "cell_type": "code",
   "execution_count": 16,
   "metadata": {},
   "outputs": [
    {
     "name": "stdout",
     "output_type": "stream",
     "text": [
      "   k      f1    prec     rec\n",
      "0  1  0.3107  0.3967  0.2553\n",
      "1  2  0.3558  0.3161  0.4069\n",
      "2  3  0.3557  0.2700  0.5213\n",
      "3  4  0.3185  0.2211  0.5691\n",
      "4  5  0.2951  0.1934  0.6223\n"
     ]
    }
   ],
   "source": [
    "#get evaluation on full data\n",
    "print(metrics(preds, y_test))"
   ]
  },
  {
   "cell_type": "code",
   "execution_count": 17,
   "metadata": {},
   "outputs": [
    {
     "name": "stdout",
     "output_type": "stream",
     "text": [
      "   k      f1    prec     rec\n",
      "0  1  0.3148  0.3902  0.2637\n",
      "1  2  0.3645  0.3171  0.4286\n",
      "2  3  0.3666  0.2737  0.5549\n",
      "3  4  0.3294  0.2256  0.6099\n",
      "4  5  0.3137  0.2033  0.6868\n"
     ]
    }
   ],
   "source": [
    "#get evaluation for rare patients only\n",
    "preds_rare = clf.predict_proba(X_test_rare)\n",
    "print(metrics(preds_rare, y_test_rare))"
   ]
  }
 ],
 "metadata": {
  "kernelspec": {
   "display_name": "deepwalk",
   "language": "python",
   "name": "python3"
  },
  "language_info": {
   "codemirror_mode": {
    "name": "ipython",
    "version": 3
   },
   "file_extension": ".py",
   "mimetype": "text/x-python",
   "name": "python",
   "nbconvert_exporter": "python",
   "pygments_lexer": "ipython3",
   "version": "3.9.19"
  }
 },
 "nbformat": 4,
 "nbformat_minor": 2
}
